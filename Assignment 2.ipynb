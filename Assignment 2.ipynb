{
 "cells": [
  {
   "cell_type": "code",
   "execution_count": 96,
   "metadata": {},
   "outputs": [],
   "source": [
    "import numpy as np\n",
    "import matplotlib.pyplot as plt\n",
    "import pandas as pd\n",
    "from sklearn.linear_model import LinearRegression\n",
    "from sklearn.preprocessing import PolynomialFeatures\n",
    "from sklearn.linear_model import SGDRegressor\n",
    "from sklearn.ensemble import RandomForestRegressor, ExtraTreesRegressor\n",
    "from sklearn.compose import TransformedTargetRegressor\n",
    "import seaborn as sns\n",
    "from sklearn.pipeline import Pipeline\n",
    "from sklearn.metrics import mean_squared_error, r2_score\n",
    "from sklearn.feature_selection import SelectFromModel\n",
    "from sklearn.model_selection import train_test_split\n",
    "from sklearn.model_selection import cross_val_score\n",
    "from sklearn.model_selection import GridSearchCV\n",
    "from sklearn.model_selection import RandomizedSearchCV\n",
    "from sklearn.linear_model import Lasso\n",
    "from sklearn.linear_model import Ridge\n",
    "from sklearn.preprocessing import MinMaxScaler\n",
    "from sklearn.preprocessing import OneHotEncoder\n",
    "\n",
    "\n",
    "\n",
    "\n",
    "\n",
    "# loading the data\n",
    "df = pd.read_csv(\"data/Euro_Salary.csv\")\n"
   ]
  },
  {
   "cell_type": "markdown",
   "metadata": {},
   "source": [
    "# Performing some EDA "
   ]
  },
  {
   "cell_type": "code",
   "execution_count": 97,
   "metadata": {},
   "outputs": [
    {
     "data": {
      "text/plain": [
       "Timestamp                                                   0\n",
       "Age                                                        27\n",
       "Gender                                                     10\n",
       "City                                                        0\n",
       "Position                                                    6\n",
       "Total years of experience                                  16\n",
       "Years of experience in Germany                             32\n",
       "Seniority level                                            12\n",
       "Your main technology / programming language               127\n",
       "Other technologies/programming languages you use often    157\n",
       "Yearly brutto salary (without bonus and stocks) in EUR      0\n",
       "Yearly bonus + stocks in EUR                              424\n",
       "Number of vacation days                                    68\n",
       "Employment status                                          17\n",
       "Сontract duration                                          29\n",
       "Main language at work                                      16\n",
       "Company size                                               18\n",
       "Company type                                               25\n",
       "dtype: int64"
      ]
     },
     "execution_count": 97,
     "metadata": {},
     "output_type": "execute_result"
    }
   ],
   "source": [
    "# finding missing values \n",
    "\n",
    "df.isnull().sum()\n"
   ]
  },
  {
   "cell_type": "code",
   "execution_count": 98,
   "metadata": {},
   "outputs": [
    {
     "data": {
      "text/plain": [
       "Timestamp                                                  object\n",
       "Age                                                       float64\n",
       "Gender                                                     object\n",
       "City                                                       object\n",
       "Position                                                   object\n",
       "Total years of experience                                  object\n",
       "Years of experience in Germany                             object\n",
       "Seniority level                                            object\n",
       "Your main technology / programming language                object\n",
       "Other technologies/programming languages you use often     object\n",
       "Yearly brutto salary (without bonus and stocks) in EUR    float64\n",
       "Yearly bonus + stocks in EUR                               object\n",
       "Number of vacation days                                    object\n",
       "Employment status                                          object\n",
       "Сontract duration                                          object\n",
       "Main language at work                                      object\n",
       "Company size                                               object\n",
       "Company type                                               object\n",
       "dtype: object"
      ]
     },
     "execution_count": 98,
     "metadata": {},
     "output_type": "execute_result"
    }
   ],
   "source": [
    "# looking at all the columns data types\n",
    "df.dtypes"
   ]
  },
  {
   "cell_type": "markdown",
   "metadata": {},
   "source": [
    "Creating our target variable"
   ]
  },
  {
   "cell_type": "code",
   "execution_count": 99,
   "metadata": {},
   "outputs": [
    {
     "data": {
      "text/html": [
       "<div>\n",
       "<style scoped>\n",
       "    .dataframe tbody tr th:only-of-type {\n",
       "        vertical-align: middle;\n",
       "    }\n",
       "\n",
       "    .dataframe tbody tr th {\n",
       "        vertical-align: top;\n",
       "    }\n",
       "\n",
       "    .dataframe thead th {\n",
       "        text-align: right;\n",
       "    }\n",
       "</style>\n",
       "<table border=\"1\" class=\"dataframe\">\n",
       "  <thead>\n",
       "    <tr style=\"text-align: right;\">\n",
       "      <th></th>\n",
       "      <th>Timestamp</th>\n",
       "      <th>Age</th>\n",
       "      <th>Gender</th>\n",
       "      <th>City</th>\n",
       "      <th>Position</th>\n",
       "      <th>Total years of experience</th>\n",
       "      <th>Years of experience in Germany</th>\n",
       "      <th>Seniority level</th>\n",
       "      <th>Your main technology / programming language</th>\n",
       "      <th>Other technologies/programming languages you use often</th>\n",
       "      <th>Yearly brutto salary (without bonus and stocks) in EUR</th>\n",
       "      <th>Yearly bonus + stocks in EUR</th>\n",
       "      <th>Number of vacation days</th>\n",
       "      <th>Employment status</th>\n",
       "      <th>Сontract duration</th>\n",
       "      <th>Main language at work</th>\n",
       "      <th>Company size</th>\n",
       "      <th>Company type</th>\n",
       "      <th>Bonus</th>\n",
       "      <th>Total Compensation</th>\n",
       "    </tr>\n",
       "  </thead>\n",
       "  <tbody>\n",
       "    <tr>\n",
       "      <th>0</th>\n",
       "      <td>24/11/2020 11:14:15</td>\n",
       "      <td>26.0</td>\n",
       "      <td>Male</td>\n",
       "      <td>Munich</td>\n",
       "      <td>Software Engineer</td>\n",
       "      <td>5</td>\n",
       "      <td>3</td>\n",
       "      <td>Senior</td>\n",
       "      <td>TypeScript</td>\n",
       "      <td>Kotlin, Javascript / Typescript</td>\n",
       "      <td>80000.0</td>\n",
       "      <td>5000</td>\n",
       "      <td>30</td>\n",
       "      <td>Full-time employee</td>\n",
       "      <td>Unlimited contract</td>\n",
       "      <td>English</td>\n",
       "      <td>51-100</td>\n",
       "      <td>Product</td>\n",
       "      <td>5000.0</td>\n",
       "      <td>85000.0</td>\n",
       "    </tr>\n",
       "    <tr>\n",
       "      <th>1</th>\n",
       "      <td>24/11/2020 11:14:16</td>\n",
       "      <td>26.0</td>\n",
       "      <td>Male</td>\n",
       "      <td>Berlin</td>\n",
       "      <td>Backend Developer</td>\n",
       "      <td>7</td>\n",
       "      <td>4</td>\n",
       "      <td>Senior</td>\n",
       "      <td>Ruby</td>\n",
       "      <td>NaN</td>\n",
       "      <td>80000.0</td>\n",
       "      <td>NaN</td>\n",
       "      <td>28</td>\n",
       "      <td>Full-time employee</td>\n",
       "      <td>Unlimited contract</td>\n",
       "      <td>English</td>\n",
       "      <td>101-1000</td>\n",
       "      <td>Product</td>\n",
       "      <td>0.0</td>\n",
       "      <td>80000.0</td>\n",
       "    </tr>\n",
       "    <tr>\n",
       "      <th>2</th>\n",
       "      <td>24/11/2020 11:14:21</td>\n",
       "      <td>29.0</td>\n",
       "      <td>Male</td>\n",
       "      <td>Berlin</td>\n",
       "      <td>Software Engineer</td>\n",
       "      <td>12</td>\n",
       "      <td>6</td>\n",
       "      <td>Lead</td>\n",
       "      <td>Javascript / Typescript</td>\n",
       "      <td>Javascript / Typescript, Docker</td>\n",
       "      <td>120000.0</td>\n",
       "      <td>120000</td>\n",
       "      <td>30</td>\n",
       "      <td>Self-employed (freelancer)</td>\n",
       "      <td>Temporary contract</td>\n",
       "      <td>English</td>\n",
       "      <td>101-1000</td>\n",
       "      <td>Product</td>\n",
       "      <td>120000.0</td>\n",
       "      <td>240000.0</td>\n",
       "    </tr>\n",
       "    <tr>\n",
       "      <th>3</th>\n",
       "      <td>24/11/2020 11:15:24</td>\n",
       "      <td>28.0</td>\n",
       "      <td>Male</td>\n",
       "      <td>Berlin</td>\n",
       "      <td>Frontend Developer</td>\n",
       "      <td>4</td>\n",
       "      <td>1</td>\n",
       "      <td>Junior</td>\n",
       "      <td>Javascript</td>\n",
       "      <td>NaN</td>\n",
       "      <td>54000.0</td>\n",
       "      <td>NaN</td>\n",
       "      <td>24</td>\n",
       "      <td>Full-time employee</td>\n",
       "      <td>Unlimited contract</td>\n",
       "      <td>English</td>\n",
       "      <td>51-100</td>\n",
       "      <td>Startup</td>\n",
       "      <td>0.0</td>\n",
       "      <td>54000.0</td>\n",
       "    </tr>\n",
       "    <tr>\n",
       "      <th>4</th>\n",
       "      <td>24/11/2020 11:15:46</td>\n",
       "      <td>37.0</td>\n",
       "      <td>Male</td>\n",
       "      <td>Berlin</td>\n",
       "      <td>Backend Developer</td>\n",
       "      <td>17</td>\n",
       "      <td>6</td>\n",
       "      <td>Senior</td>\n",
       "      <td>C# .NET</td>\n",
       "      <td>.NET, SQL, AWS, Docker</td>\n",
       "      <td>62000.0</td>\n",
       "      <td>NaN</td>\n",
       "      <td>29</td>\n",
       "      <td>Full-time employee</td>\n",
       "      <td>Unlimited contract</td>\n",
       "      <td>English</td>\n",
       "      <td>101-1000</td>\n",
       "      <td>Product</td>\n",
       "      <td>0.0</td>\n",
       "      <td>62000.0</td>\n",
       "    </tr>\n",
       "  </tbody>\n",
       "</table>\n",
       "</div>"
      ],
      "text/plain": [
       "             Timestamp   Age Gender    City           Position   \\\n",
       "0  24/11/2020 11:14:15  26.0   Male  Munich   Software Engineer   \n",
       "1  24/11/2020 11:14:16  26.0   Male  Berlin   Backend Developer   \n",
       "2  24/11/2020 11:14:21  29.0   Male  Berlin   Software Engineer   \n",
       "3  24/11/2020 11:15:24  28.0   Male  Berlin  Frontend Developer   \n",
       "4  24/11/2020 11:15:46  37.0   Male  Berlin   Backend Developer   \n",
       "\n",
       "  Total years of experience Years of experience in Germany Seniority level  \\\n",
       "0                         5                              3          Senior   \n",
       "1                         7                              4          Senior   \n",
       "2                        12                              6            Lead   \n",
       "3                         4                              1          Junior   \n",
       "4                        17                              6          Senior   \n",
       "\n",
       "  Your main technology / programming language  \\\n",
       "0                                  TypeScript   \n",
       "1                                        Ruby   \n",
       "2                     Javascript / Typescript   \n",
       "3                                  Javascript   \n",
       "4                                     C# .NET   \n",
       "\n",
       "  Other technologies/programming languages you use often  \\\n",
       "0                    Kotlin, Javascript / Typescript       \n",
       "1                                                NaN       \n",
       "2                    Javascript / Typescript, Docker       \n",
       "3                                                NaN       \n",
       "4                             .NET, SQL, AWS, Docker       \n",
       "\n",
       "   Yearly brutto salary (without bonus and stocks) in EUR  \\\n",
       "0                                            80000.0        \n",
       "1                                            80000.0        \n",
       "2                                           120000.0        \n",
       "3                                            54000.0        \n",
       "4                                            62000.0        \n",
       "\n",
       "  Yearly bonus + stocks in EUR Number of vacation days  \\\n",
       "0                         5000                      30   \n",
       "1                          NaN                      28   \n",
       "2                       120000                      30   \n",
       "3                          NaN                      24   \n",
       "4                          NaN                      29   \n",
       "\n",
       "            Employment status   Сontract duration Main language at work  \\\n",
       "0          Full-time employee  Unlimited contract               English   \n",
       "1          Full-time employee  Unlimited contract               English   \n",
       "2  Self-employed (freelancer)  Temporary contract               English   \n",
       "3          Full-time employee  Unlimited contract               English   \n",
       "4          Full-time employee  Unlimited contract               English   \n",
       "\n",
       "  Company size Company type     Bonus  Total Compensation  \n",
       "0       51-100      Product    5000.0             85000.0  \n",
       "1     101-1000      Product       0.0             80000.0  \n",
       "2     101-1000      Product  120000.0            240000.0  \n",
       "3       51-100      Startup       0.0             54000.0  \n",
       "4     101-1000      Product       0.0             62000.0  "
      ]
     },
     "execution_count": 99,
     "metadata": {},
     "output_type": "execute_result"
    }
   ],
   "source": [
    "df[\"Bonus\"] = pd.to_numeric(df[\"Yearly bonus + stocks in EUR\"], downcast=\"float\", errors=\"coerce\")\n",
    "df[\"Bonus\"].fillna(0, inplace=True)\n",
    "df[\"Total Compensation\"] = df[\"Yearly brutto salary (without bonus and stocks) in EUR\"] + df[\"Bonus\"]\n",
    "df.head()"
   ]
  },
  {
   "cell_type": "code",
   "execution_count": 100,
   "metadata": {},
   "outputs": [
    {
     "name": "stdout",
     "output_type": "stream",
     "text": [
      "Male       1049\n",
      "Female      192\n",
      "Diverse       2\n",
      "Name: Gender, dtype: int64\n",
      "Berlin         681\n",
      "Munich         236\n",
      "Frankfurt       44\n",
      "Hamburg         40\n",
      "Stuttgart       26\n",
      "              ... \n",
      "Nuremberg        1\n",
      "Lübeck           1\n",
      "Malta            1\n",
      "Dresden          1\n",
      "Saarbrücken      1\n",
      "Name: City, Length: 119, dtype: int64\n",
      "Senior                                       565\n",
      "Middle                                       366\n",
      "Lead                                         166\n",
      "Junior                                        79\n",
      "Head                                          44\n",
      "Principal                                      3\n",
      "student                                        1\n",
      "Intern                                         1\n",
      "Entry level                                    1\n",
      "Working Student                                1\n",
      "C-Level                                        1\n",
      "no idea, there are no ranges in the firm       1\n",
      "Student                                        1\n",
      "intern                                         1\n",
      "Key                                            1\n",
      "C-level executive manager                      1\n",
      "Director                                       1\n",
      "No level                                       1\n",
      "CTO                                            1\n",
      "Work Center Manager                            1\n",
      "Manager                                        1\n",
      "VP                                             1\n",
      "No level                                       1\n",
      "Self employed                                  1\n",
      "Name: Seniority level, dtype: int64\n",
      "Java                 184\n",
      "Python               164\n",
      "PHP                   56\n",
      "C++                   38\n",
      "JavaScript            34\n",
      "                    ... \n",
      "Go, PHP, SQL           1\n",
      "Kotlin                 1\n",
      "Jira                   1\n",
      "Qml                    1\n",
      "consumer analysis      1\n",
      "Name: Your main technology / programming language, Length: 256, dtype: int64\n",
      "English               1020\n",
      "German                 186\n",
      "Russian                 12\n",
      "Italian                  3\n",
      "Spanish                  3\n",
      "English and German       2\n",
      "Polish                   2\n",
      "Русский                  2\n",
      "Czech                    2\n",
      "50/50                    1\n",
      "Deuglisch                1\n",
      "French                   1\n",
      "both                     1\n",
      "Russian, English         1\n",
      "Name: Main language at work, dtype: int64\n",
      "1000+       448\n",
      "101-1000    405\n",
      "11-50       174\n",
      "51-100      147\n",
      "up to 10     61\n",
      "Name: Company size, dtype: int64\n",
      "Product                760\n",
      "Startup                252\n",
      "Consulting / Agency    142\n",
      "Bank                     5\n",
      "Media                    3\n",
      "                      ... \n",
      "Publisher                1\n",
      "Energy                   1\n",
      "Enterprise               1\n",
      "service                  1\n",
      "eCommerce                1\n",
      "Name: Company type, Length: 63, dtype: int64\n"
     ]
    }
   ],
   "source": [
    "# looking at the distribution of categorical variables \n",
    "categorical_features = ['Gender', 'City', 'Seniority level', 'Your main technology / programming language', 'Main language at work', 'Company size', 'Company type']\n",
    "for feature in categorical_features:\n",
    "    print(df[feature].value_counts())"
   ]
  },
  {
   "cell_type": "code",
   "execution_count": 101,
   "metadata": {},
   "outputs": [
    {
     "data": {
      "text/plain": [
       "Timestamp                                                   0\n",
       "Age                                                        27\n",
       "Gender                                                     10\n",
       "City                                                        0\n",
       "Position                                                    6\n",
       "Total years of experience                                  16\n",
       "Years of experience in Germany                             32\n",
       "Seniority level                                            12\n",
       "Your main technology / programming language               127\n",
       "Other technologies/programming languages you use often    157\n",
       "Yearly brutto salary (without bonus and stocks) in EUR      0\n",
       "Yearly bonus + stocks in EUR                              424\n",
       "Number of vacation days                                    68\n",
       "Employment status                                          17\n",
       "Сontract duration                                          29\n",
       "Main language at work                                      16\n",
       "Company size                                               18\n",
       "Company type                                               25\n",
       "Bonus                                                       0\n",
       "Total Compensation                                          0\n",
       "dtype: int64"
      ]
     },
     "execution_count": 101,
     "metadata": {},
     "output_type": "execute_result"
    }
   ],
   "source": [
    "df.isnull().sum()"
   ]
  },
  {
   "cell_type": "code",
   "execution_count": 102,
   "metadata": {},
   "outputs": [
    {
     "data": {
      "text/plain": [
       "Senior                                       565\n",
       "Middle                                       366\n",
       "Lead                                         166\n",
       "Junior                                        79\n",
       "Head                                          44\n",
       "Principal                                      3\n",
       "student                                        1\n",
       "Intern                                         1\n",
       "Entry level                                    1\n",
       "Working Student                                1\n",
       "C-Level                                        1\n",
       "no idea, there are no ranges in the firm       1\n",
       "Student                                        1\n",
       "intern                                         1\n",
       "Key                                            1\n",
       "C-level executive manager                      1\n",
       "Director                                       1\n",
       "No level                                       1\n",
       "CTO                                            1\n",
       "Work Center Manager                            1\n",
       "Manager                                        1\n",
       "VP                                             1\n",
       "No level                                       1\n",
       "Self employed                                  1\n",
       "Name: Seniority level, dtype: int64"
      ]
     },
     "execution_count": 102,
     "metadata": {},
     "output_type": "execute_result"
    }
   ],
   "source": [
    "df['Seniority level'].value_counts()"
   ]
  },
  {
   "cell_type": "markdown",
   "metadata": {},
   "source": [
    "Some Data Prep"
   ]
  },
  {
   "cell_type": "code",
   "execution_count": 103,
   "metadata": {},
   "outputs": [],
   "source": [
    "# my goal is to extract non numerical values out of the columns I want to be floats \n",
    "\n",
    "columns_to_clean = ['Total years of experience', 'Years of experience in Germany', 'Number of vacation days', 'Yearly bonus + stocks in EUR']\n",
    "\n",
    "# Extracting numeric values from text\n",
    "for col in columns_to_clean:\n",
    "    df[col] = df[col].str.extract('(\\d+)', expand=False).astype(float)\n",
    "\n",
    "# Removing commas from the columns and converting to float\n",
    "columns_to_convert = ['Total years of experience', 'Years of experience in Germany', 'Number of vacation days', 'Yearly bonus + stocks in EUR']\n",
    "df[columns_to_convert] = df[columns_to_convert].replace(',', '.', regex=True).astype(float)"
   ]
  },
  {
   "cell_type": "code",
   "execution_count": 104,
   "metadata": {},
   "outputs": [
    {
     "data": {
      "text/plain": [
       "Timestamp                                                  object\n",
       "Age                                                       float64\n",
       "Gender                                                     object\n",
       "City                                                       object\n",
       "Position                                                   object\n",
       "Total years of experience                                 float64\n",
       "Years of experience in Germany                            float64\n",
       "Seniority level                                            object\n",
       "Your main technology / programming language                object\n",
       "Other technologies/programming languages you use often     object\n",
       "Yearly brutto salary (without bonus and stocks) in EUR    float64\n",
       "Yearly bonus + stocks in EUR                              float64\n",
       "Number of vacation days                                   float64\n",
       "Employment status                                          object\n",
       "Сontract duration                                          object\n",
       "Main language at work                                      object\n",
       "Company size                                               object\n",
       "Company type                                               object\n",
       "Bonus                                                     float32\n",
       "Total Compensation                                        float64\n",
       "dtype: object"
      ]
     },
     "execution_count": 104,
     "metadata": {},
     "output_type": "execute_result"
    }
   ],
   "source": [
    "# now im just checking to make sure things look good \n",
    "df.dtypes"
   ]
  },
  {
   "cell_type": "markdown",
   "metadata": {},
   "source": [
    "Handling missing values / imputation"
   ]
  },
  {
   "cell_type": "code",
   "execution_count": 105,
   "metadata": {},
   "outputs": [],
   "source": [
    "#Im using the distribution given on the website, medians and modes to fill in missing values \n",
    "\n",
    "age_range_percentage = 0.59  # 59%\n",
    "median_age_range = (28 + 35) / 2  # Median of the range 28-35 years\n",
    "\n",
    "df['Age'].fillna(median_age_range, inplace=True)\n",
    "\n",
    "\n",
    "mode_gender = df['Gender'].mode()[0]\n",
    "df['Gender'].fillna(mode_gender, inplace=True)\n",
    "\n",
    "mode_position = df['Position '].mode()[0]\n",
    "df['Position '].fillna(mode_position, inplace=True)\n",
    "\n",
    "median_experience = df['Total years of experience'].median()\n",
    "df['Total years of experience'].fillna(median_experience, inplace=True)\n",
    "\n",
    "percentage_up_to_3_years = 0.43  # 43%\n",
    "years_up_to_3 = 3\n",
    "\n",
    "median_experience_more_than_3_years = df[df['Years of experience in Germany'] > 3]['Years of experience in Germany'].median()\n",
    "\n",
    "df['Years of experience in Germany'].fillna(\n",
    "    value=(percentage_up_to_3_years * years_up_to_3 + (1 - percentage_up_to_3_years) * median_experience_more_than_3_years), \n",
    "    inplace=True\n",
    ")\n",
    "\n",
    "mode_language = df['Main language at work'].mode()[0]\n",
    "df['Main language at work'].fillna(mode_language, inplace=True)\n",
    "\n",
    "percentage_30_days = 0.45  # 45%\n",
    "vacation_days_30 = 30\n",
    "\n",
    "median_vacation_days_other_than_30 = df[df['Number of vacation days'] != 30]['Number of vacation days'].median()\n",
    "\n",
    "df['Number of vacation days'].fillna(\n",
    "    value=(percentage_30_days * vacation_days_30 + (1 - percentage_30_days) * median_vacation_days_other_than_30), \n",
    "    inplace=True\n",
    ")\n",
    "\n",
    "common_technologies = ['Docker', 'SQL', 'AWS', 'Python', 'JavaScript']\n",
    "df['Your main technology / programming language'].fillna(pd.Series(np.random.choice(common_technologies, size=len(df.index))), inplace=True)\n",
    "\n",
    "df['Other technologies/programming languages you use often'].fillna(pd.Series(np.random.choice(common_technologies, size=len(df.index))), inplace=True)\n",
    "\n",
    "mode_employment_status = df['Employment status'].mode()[0]\n",
    "df['Employment status'].fillna(mode_employment_status, inplace=True)\n",
    "\n",
    "median_contract = df['Сontract duration'].mode()[0]\n",
    "df['Сontract duration'].fillna(median_contract, inplace=True)\n",
    "\n",
    "mode_company_size = df['Company size'].mode()[0]\n",
    "df['Company size'].fillna(mode_company_size, inplace=True)\n",
    "\n",
    "mode_company_type = df['Company type'].mode()[0]\n",
    "df['Company type'].fillna(mode_company_type, inplace=True)\n",
    "\n",
    "df[\"Yearly bonus + stocks in EUR\"].fillna(0, inplace=True)\n",
    "\n",
    "# Decided to map the salary ranges to seniority levels - improve accuracy in my imputation \n",
    "salary_ranges = {\n",
    "    'Junior': (30000, 55000),  # Expanded salary range for Junior level\n",
    "    'Middle': (55001, 65000),  # Expanded salary range for Middle level\n",
    "    'Senior': (65001, 75000),  # Expanded salary range for Senior level\n",
    "    'Lead': (75001, 88000),  # Expanded salary range for Lead level\n",
    "    'Principal': (88001,  float('inf'))  # Expanded salary range for Principal level\n",
    "}\n",
    "\n",
    "# now we are going to fill missing values in the 'seniority level' column based on the salary ranges\n",
    "for seniority, salary_range in salary_ranges.items():\n",
    "    min_salary, max_salary = salary_range\n",
    "    df.loc[\n",
    "        (df['Seniority level'].isnull()) & \n",
    "        (df['Yearly brutto salary (without bonus and stocks) in EUR'] >= min_salary) & \n",
    "        (df['Yearly brutto salary (without bonus and stocks) in EUR'] <= max_salary), \n",
    "        'Seniority level'\n",
    "    ] = seniority\n"
   ]
  },
  {
   "cell_type": "code",
   "execution_count": 106,
   "metadata": {},
   "outputs": [
    {
     "data": {
      "text/plain": [
       "Timestamp                                                 0\n",
       "Age                                                       0\n",
       "Gender                                                    0\n",
       "City                                                      0\n",
       "Position                                                  0\n",
       "Total years of experience                                 0\n",
       "Years of experience in Germany                            0\n",
       "Seniority level                                           0\n",
       "Your main technology / programming language               0\n",
       "Other technologies/programming languages you use often    0\n",
       "Yearly brutto salary (without bonus and stocks) in EUR    0\n",
       "Yearly bonus + stocks in EUR                              0\n",
       "Number of vacation days                                   0\n",
       "Employment status                                         0\n",
       "Сontract duration                                         0\n",
       "Main language at work                                     0\n",
       "Company size                                              0\n",
       "Company type                                              0\n",
       "Bonus                                                     0\n",
       "Total Compensation                                        0\n",
       "dtype: int64"
      ]
     },
     "execution_count": 106,
     "metadata": {},
     "output_type": "execute_result"
    }
   ],
   "source": [
    "df.isnull().sum() #checking that we are now good for missing values "
   ]
  },
  {
   "cell_type": "code",
   "execution_count": 107,
   "metadata": {},
   "outputs": [
    {
     "data": {
      "text/html": [
       "<div>\n",
       "<style scoped>\n",
       "    .dataframe tbody tr th:only-of-type {\n",
       "        vertical-align: middle;\n",
       "    }\n",
       "\n",
       "    .dataframe tbody tr th {\n",
       "        vertical-align: top;\n",
       "    }\n",
       "\n",
       "    .dataframe thead th {\n",
       "        text-align: right;\n",
       "    }\n",
       "</style>\n",
       "<table border=\"1\" class=\"dataframe\">\n",
       "  <thead>\n",
       "    <tr style=\"text-align: right;\">\n",
       "      <th></th>\n",
       "      <th>Timestamp</th>\n",
       "      <th>Age</th>\n",
       "      <th>Gender</th>\n",
       "      <th>City</th>\n",
       "      <th>Position</th>\n",
       "      <th>Total years of experience</th>\n",
       "      <th>Years of experience in Germany</th>\n",
       "      <th>Seniority level</th>\n",
       "      <th>Your main technology / programming language</th>\n",
       "      <th>Other technologies/programming languages you use often</th>\n",
       "      <th>Yearly brutto salary (without bonus and stocks) in EUR</th>\n",
       "      <th>Yearly bonus + stocks in EUR</th>\n",
       "      <th>Number of vacation days</th>\n",
       "      <th>Employment status</th>\n",
       "      <th>Сontract duration</th>\n",
       "      <th>Main language at work</th>\n",
       "      <th>Company size</th>\n",
       "      <th>Company type</th>\n",
       "      <th>Bonus</th>\n",
       "      <th>Total Compensation</th>\n",
       "    </tr>\n",
       "  </thead>\n",
       "  <tbody>\n",
       "    <tr>\n",
       "      <th>0</th>\n",
       "      <td>24/11/2020 11:14:15</td>\n",
       "      <td>26.0</td>\n",
       "      <td>Male</td>\n",
       "      <td>Munich</td>\n",
       "      <td>Software Engineer</td>\n",
       "      <td>5.0</td>\n",
       "      <td>3.0</td>\n",
       "      <td>Senior</td>\n",
       "      <td>TypeScript</td>\n",
       "      <td>Kotlin, Javascript / Typescript</td>\n",
       "      <td>80000.0</td>\n",
       "      <td>5000.0</td>\n",
       "      <td>30.0</td>\n",
       "      <td>Full-time employee</td>\n",
       "      <td>Unlimited contract</td>\n",
       "      <td>English</td>\n",
       "      <td>51-100</td>\n",
       "      <td>Product</td>\n",
       "      <td>5000.0</td>\n",
       "      <td>85000.0</td>\n",
       "    </tr>\n",
       "    <tr>\n",
       "      <th>1</th>\n",
       "      <td>24/11/2020 11:14:16</td>\n",
       "      <td>26.0</td>\n",
       "      <td>Male</td>\n",
       "      <td>Berlin</td>\n",
       "      <td>Backend Developer</td>\n",
       "      <td>7.0</td>\n",
       "      <td>4.0</td>\n",
       "      <td>Senior</td>\n",
       "      <td>Ruby</td>\n",
       "      <td>SQL</td>\n",
       "      <td>80000.0</td>\n",
       "      <td>0.0</td>\n",
       "      <td>28.0</td>\n",
       "      <td>Full-time employee</td>\n",
       "      <td>Unlimited contract</td>\n",
       "      <td>English</td>\n",
       "      <td>101-1000</td>\n",
       "      <td>Product</td>\n",
       "      <td>0.0</td>\n",
       "      <td>80000.0</td>\n",
       "    </tr>\n",
       "    <tr>\n",
       "      <th>2</th>\n",
       "      <td>24/11/2020 11:14:21</td>\n",
       "      <td>29.0</td>\n",
       "      <td>Male</td>\n",
       "      <td>Berlin</td>\n",
       "      <td>Software Engineer</td>\n",
       "      <td>12.0</td>\n",
       "      <td>6.0</td>\n",
       "      <td>Lead</td>\n",
       "      <td>Javascript / Typescript</td>\n",
       "      <td>Javascript / Typescript, Docker</td>\n",
       "      <td>120000.0</td>\n",
       "      <td>120000.0</td>\n",
       "      <td>30.0</td>\n",
       "      <td>Self-employed (freelancer)</td>\n",
       "      <td>Temporary contract</td>\n",
       "      <td>English</td>\n",
       "      <td>101-1000</td>\n",
       "      <td>Product</td>\n",
       "      <td>120000.0</td>\n",
       "      <td>240000.0</td>\n",
       "    </tr>\n",
       "    <tr>\n",
       "      <th>3</th>\n",
       "      <td>24/11/2020 11:15:24</td>\n",
       "      <td>28.0</td>\n",
       "      <td>Male</td>\n",
       "      <td>Berlin</td>\n",
       "      <td>Frontend Developer</td>\n",
       "      <td>4.0</td>\n",
       "      <td>1.0</td>\n",
       "      <td>Junior</td>\n",
       "      <td>Javascript</td>\n",
       "      <td>JavaScript</td>\n",
       "      <td>54000.0</td>\n",
       "      <td>0.0</td>\n",
       "      <td>24.0</td>\n",
       "      <td>Full-time employee</td>\n",
       "      <td>Unlimited contract</td>\n",
       "      <td>English</td>\n",
       "      <td>51-100</td>\n",
       "      <td>Startup</td>\n",
       "      <td>0.0</td>\n",
       "      <td>54000.0</td>\n",
       "    </tr>\n",
       "    <tr>\n",
       "      <th>4</th>\n",
       "      <td>24/11/2020 11:15:46</td>\n",
       "      <td>37.0</td>\n",
       "      <td>Male</td>\n",
       "      <td>Berlin</td>\n",
       "      <td>Backend Developer</td>\n",
       "      <td>17.0</td>\n",
       "      <td>6.0</td>\n",
       "      <td>Senior</td>\n",
       "      <td>C# .NET</td>\n",
       "      <td>.NET, SQL, AWS, Docker</td>\n",
       "      <td>62000.0</td>\n",
       "      <td>0.0</td>\n",
       "      <td>29.0</td>\n",
       "      <td>Full-time employee</td>\n",
       "      <td>Unlimited contract</td>\n",
       "      <td>English</td>\n",
       "      <td>101-1000</td>\n",
       "      <td>Product</td>\n",
       "      <td>0.0</td>\n",
       "      <td>62000.0</td>\n",
       "    </tr>\n",
       "  </tbody>\n",
       "</table>\n",
       "</div>"
      ],
      "text/plain": [
       "             Timestamp   Age Gender    City           Position   \\\n",
       "0  24/11/2020 11:14:15  26.0   Male  Munich   Software Engineer   \n",
       "1  24/11/2020 11:14:16  26.0   Male  Berlin   Backend Developer   \n",
       "2  24/11/2020 11:14:21  29.0   Male  Berlin   Software Engineer   \n",
       "3  24/11/2020 11:15:24  28.0   Male  Berlin  Frontend Developer   \n",
       "4  24/11/2020 11:15:46  37.0   Male  Berlin   Backend Developer   \n",
       "\n",
       "   Total years of experience  Years of experience in Germany Seniority level  \\\n",
       "0                        5.0                             3.0          Senior   \n",
       "1                        7.0                             4.0          Senior   \n",
       "2                       12.0                             6.0            Lead   \n",
       "3                        4.0                             1.0          Junior   \n",
       "4                       17.0                             6.0          Senior   \n",
       "\n",
       "  Your main technology / programming language  \\\n",
       "0                                  TypeScript   \n",
       "1                                        Ruby   \n",
       "2                     Javascript / Typescript   \n",
       "3                                  Javascript   \n",
       "4                                     C# .NET   \n",
       "\n",
       "  Other technologies/programming languages you use often  \\\n",
       "0                    Kotlin, Javascript / Typescript       \n",
       "1                                                SQL       \n",
       "2                    Javascript / Typescript, Docker       \n",
       "3                                         JavaScript       \n",
       "4                             .NET, SQL, AWS, Docker       \n",
       "\n",
       "   Yearly brutto salary (without bonus and stocks) in EUR  \\\n",
       "0                                            80000.0        \n",
       "1                                            80000.0        \n",
       "2                                           120000.0        \n",
       "3                                            54000.0        \n",
       "4                                            62000.0        \n",
       "\n",
       "   Yearly bonus + stocks in EUR  Number of vacation days  \\\n",
       "0                        5000.0                     30.0   \n",
       "1                           0.0                     28.0   \n",
       "2                      120000.0                     30.0   \n",
       "3                           0.0                     24.0   \n",
       "4                           0.0                     29.0   \n",
       "\n",
       "            Employment status   Сontract duration Main language at work  \\\n",
       "0          Full-time employee  Unlimited contract               English   \n",
       "1          Full-time employee  Unlimited contract               English   \n",
       "2  Self-employed (freelancer)  Temporary contract               English   \n",
       "3          Full-time employee  Unlimited contract               English   \n",
       "4          Full-time employee  Unlimited contract               English   \n",
       "\n",
       "  Company size Company type     Bonus  Total Compensation  \n",
       "0       51-100      Product    5000.0             85000.0  \n",
       "1     101-1000      Product       0.0             80000.0  \n",
       "2     101-1000      Product  120000.0            240000.0  \n",
       "3       51-100      Startup       0.0             54000.0  \n",
       "4     101-1000      Product       0.0             62000.0  "
      ]
     },
     "execution_count": 107,
     "metadata": {},
     "output_type": "execute_result"
    }
   ],
   "source": [
    "df.head()"
   ]
  },
  {
   "cell_type": "code",
   "execution_count": 108,
   "metadata": {},
   "outputs": [
    {
     "name": "stdout",
     "output_type": "stream",
     "text": [
      "[2020 2021]\n"
     ]
    }
   ],
   "source": [
    "#checking to see the years of this data \n",
    "\n",
    "df['Timestamp'] = pd.to_datetime(df['Timestamp'])\n",
    "df['Year'] = df['Timestamp'].dt.year\n",
    "unique_years = df['Year'].unique()\n",
    "print(unique_years)"
   ]
  },
  {
   "cell_type": "code",
   "execution_count": 109,
   "metadata": {},
   "outputs": [],
   "source": [
    "# lets do some category handling \n",
    "\n",
    "# handling low frequency categories and putting low value counts into 'other' category\n",
    "def handle_low_frequency_categories(column_name, low_freq_threshold=2):\n",
    "    column_counts = df[column_name].value_counts()\n",
    "    low_freq_values = column_counts[column_counts < low_freq_threshold].index\n",
    "    df[column_name].replace(low_freq_values, 'Other', inplace=True)\n",
    "\n",
    "\n",
    "handle_low_frequency_categories('City')\n",
    "handle_low_frequency_categories('Position ')\n",
    "handle_low_frequency_categories('Seniority level')\n",
    "handle_low_frequency_categories('Your main technology / programming language')\n",
    "handle_low_frequency_categories('Main language at work')\n",
    "handle_low_frequency_categories('Company size')"
   ]
  },
  {
   "cell_type": "code",
   "execution_count": 110,
   "metadata": {},
   "outputs": [
    {
     "data": {
      "text/plain": [
       "(1253, 21)"
      ]
     },
     "execution_count": 110,
     "metadata": {},
     "output_type": "execute_result"
    }
   ],
   "source": [
    "df.shape #wanted to make sure I did not lose any data"
   ]
  },
  {
   "cell_type": "code",
   "execution_count": 111,
   "metadata": {},
   "outputs": [],
   "source": [
    "\n",
    "# reating dummy variables for categorical features\n",
    "categorical_features = ['Gender', 'City', 'Position ', 'Seniority level', 'Your main technology / programming language', 'Other technologies/programming languages you use often',\n",
    "                        'Employment status', 'Сontract duration', 'Main language at work', 'Company size', 'Company type']\n",
    "\n",
    "df_processed = pd.get_dummies(df, columns=categorical_features, drop_first=True)\n"
   ]
  },
  {
   "cell_type": "code",
   "execution_count": 112,
   "metadata": {},
   "outputs": [],
   "source": [
    "# now were splitting the data into the features and target variable\n",
    "X = df_processed.drop(['Total Compensation', 'Timestamp', 'Yearly brutto salary (without bonus and stocks) in EUR', 'Yearly bonus + stocks in EUR', 'Bonus','Year'], axis=1)\n",
    "y = df_processed['Total Compensation']\n",
    "\n",
    "# and then splitting the data into training and testing sets\n",
    "X_train, X_test, y_train, y_test = train_test_split(X, y, test_size=0.2, random_state=42)\n"
   ]
  },
  {
   "cell_type": "code",
   "execution_count": 113,
   "metadata": {},
   "outputs": [
    {
     "data": {
      "text/html": [
       "<style>#sk-container-id-6 {color: black;}#sk-container-id-6 pre{padding: 0;}#sk-container-id-6 div.sk-toggleable {background-color: white;}#sk-container-id-6 label.sk-toggleable__label {cursor: pointer;display: block;width: 100%;margin-bottom: 0;padding: 0.3em;box-sizing: border-box;text-align: center;}#sk-container-id-6 label.sk-toggleable__label-arrow:before {content: \"▸\";float: left;margin-right: 0.25em;color: #696969;}#sk-container-id-6 label.sk-toggleable__label-arrow:hover:before {color: black;}#sk-container-id-6 div.sk-estimator:hover label.sk-toggleable__label-arrow:before {color: black;}#sk-container-id-6 div.sk-toggleable__content {max-height: 0;max-width: 0;overflow: hidden;text-align: left;background-color: #f0f8ff;}#sk-container-id-6 div.sk-toggleable__content pre {margin: 0.2em;color: black;border-radius: 0.25em;background-color: #f0f8ff;}#sk-container-id-6 input.sk-toggleable__control:checked~div.sk-toggleable__content {max-height: 200px;max-width: 100%;overflow: auto;}#sk-container-id-6 input.sk-toggleable__control:checked~label.sk-toggleable__label-arrow:before {content: \"▾\";}#sk-container-id-6 div.sk-estimator input.sk-toggleable__control:checked~label.sk-toggleable__label {background-color: #d4ebff;}#sk-container-id-6 div.sk-label input.sk-toggleable__control:checked~label.sk-toggleable__label {background-color: #d4ebff;}#sk-container-id-6 input.sk-hidden--visually {border: 0;clip: rect(1px 1px 1px 1px);clip: rect(1px, 1px, 1px, 1px);height: 1px;margin: -1px;overflow: hidden;padding: 0;position: absolute;width: 1px;}#sk-container-id-6 div.sk-estimator {font-family: monospace;background-color: #f0f8ff;border: 1px dotted black;border-radius: 0.25em;box-sizing: border-box;margin-bottom: 0.5em;}#sk-container-id-6 div.sk-estimator:hover {background-color: #d4ebff;}#sk-container-id-6 div.sk-parallel-item::after {content: \"\";width: 100%;border-bottom: 1px solid gray;flex-grow: 1;}#sk-container-id-6 div.sk-label:hover label.sk-toggleable__label {background-color: #d4ebff;}#sk-container-id-6 div.sk-serial::before {content: \"\";position: absolute;border-left: 1px solid gray;box-sizing: border-box;top: 0;bottom: 0;left: 50%;z-index: 0;}#sk-container-id-6 div.sk-serial {display: flex;flex-direction: column;align-items: center;background-color: white;padding-right: 0.2em;padding-left: 0.2em;position: relative;}#sk-container-id-6 div.sk-item {position: relative;z-index: 1;}#sk-container-id-6 div.sk-parallel {display: flex;align-items: stretch;justify-content: center;background-color: white;position: relative;}#sk-container-id-6 div.sk-item::before, #sk-container-id-6 div.sk-parallel-item::before {content: \"\";position: absolute;border-left: 1px solid gray;box-sizing: border-box;top: 0;bottom: 0;left: 50%;z-index: -1;}#sk-container-id-6 div.sk-parallel-item {display: flex;flex-direction: column;z-index: 1;position: relative;background-color: white;}#sk-container-id-6 div.sk-parallel-item:first-child::after {align-self: flex-end;width: 50%;}#sk-container-id-6 div.sk-parallel-item:last-child::after {align-self: flex-start;width: 50%;}#sk-container-id-6 div.sk-parallel-item:only-child::after {width: 0;}#sk-container-id-6 div.sk-dashed-wrapped {border: 1px dashed gray;margin: 0 0.4em 0.5em 0.4em;box-sizing: border-box;padding-bottom: 0.4em;background-color: white;}#sk-container-id-6 div.sk-label label {font-family: monospace;font-weight: bold;display: inline-block;line-height: 1.2em;}#sk-container-id-6 div.sk-label-container {text-align: center;}#sk-container-id-6 div.sk-container {/* jupyter's `normalize.less` sets `[hidden] { display: none; }` but bootstrap.min.css set `[hidden] { display: none !important; }` so we also need the `!important` here to be able to override the default hidden behavior on the sphinx rendered scikit-learn.org. See: https://github.com/scikit-learn/scikit-learn/issues/21755 */display: inline-block !important;position: relative;}#sk-container-id-6 div.sk-text-repr-fallback {display: none;}</style><div id=\"sk-container-id-6\" class=\"sk-top-container\"><div class=\"sk-text-repr-fallback\"><pre>RandomForestRegressor(random_state=42)</pre><b>In a Jupyter environment, please rerun this cell to show the HTML representation or trust the notebook. <br />On GitHub, the HTML representation is unable to render, please try loading this page with nbviewer.org.</b></div><div class=\"sk-container\" hidden><div class=\"sk-item\"><div class=\"sk-estimator sk-toggleable\"><input class=\"sk-toggleable__control sk-hidden--visually\" id=\"sk-estimator-id-10\" type=\"checkbox\" checked><label for=\"sk-estimator-id-10\" class=\"sk-toggleable__label sk-toggleable__label-arrow\">RandomForestRegressor</label><div class=\"sk-toggleable__content\"><pre>RandomForestRegressor(random_state=42)</pre></div></div></div></div></div>"
      ],
      "text/plain": [
       "RandomForestRegressor(random_state=42)"
      ]
     },
     "execution_count": 113,
     "metadata": {},
     "output_type": "execute_result"
    }
   ],
   "source": [
    "# creating a random forest regressor model\n",
    "model = RandomForestRegressor(n_estimators=100, random_state=42)\n",
    "model.fit(X_train, y_train)\n"
   ]
  },
  {
   "cell_type": "code",
   "execution_count": 114,
   "metadata": {},
   "outputs": [
    {
     "name": "stdout",
     "output_type": "stream",
     "text": [
      "Training R-squared: 0.7883214366790234\n",
      "Training RMSE: 1454854145.1625855\n",
      "Testing R-squared: -67043352.425969206\n",
      "Testing RMSE: 631193035.8421366\n"
     ]
    }
   ],
   "source": [
    "# making some predictions\n",
    "y_pred_train = model.predict(X_train)\n",
    "y_pred_test = model.predict(X_test)\n",
    "\n",
    "# calculating r squared and rmse\n",
    "r2_train = r2_score(y_train, y_pred_train)\n",
    "rmse_train = mean_squared_error(y_train, y_pred_train, squared=False)\n",
    "r2_test = r2_score(y_test, y_pred_test)\n",
    "rmse_test = mean_squared_error(y_test, y_pred_test, squared=False)\n",
    "\n",
    "print(\"Training R-squared:\", r2_train)\n",
    "print(\"Training RMSE:\", rmse_train)\n",
    "print(\"Testing R-squared:\", r2_test)\n",
    "print(\"Testing RMSE:\", rmse_test)\n"
   ]
  },
  {
   "cell_type": "markdown",
   "metadata": {},
   "source": [
    "R squared for training data is good but very poor for the testing data - potential overfitting :("
   ]
  },
  {
   "cell_type": "code",
   "execution_count": 115,
   "metadata": {},
   "outputs": [],
   "source": [
    "# using ths SelectFromModel to select the most important features \n",
    "# maybe this can help improve performance and reduce overfitting\n",
    "\n",
    "# Create a feature selection model\n",
    "feature_selector = SelectFromModel(model)\n",
    "\n",
    "# Fit the feature selector\n",
    "feature_selector.fit(X_train, y_train)\n",
    "\n",
    "# Get the selected feature indices\n",
    "selected_feature_indices = feature_selector.get_support(indices=True)\n",
    "\n",
    "# Get the selected feature names\n",
    "selected_features = X_train.columns[selected_feature_indices]\n"
   ]
  },
  {
   "cell_type": "code",
   "execution_count": 116,
   "metadata": {},
   "outputs": [],
   "source": [
    "#hyperparameter tuning and grid search using a reduced number of combinations \n",
    "\n",
    "param_grid_reduced = {\n",
    "    'n_estimators': [100, 150],\n",
    "    'max_depth': [5, 10],\n",
    "    'min_samples_split': [2, 5]\n",
    "}\n",
    "\n",
    "grid_search_reduced = GridSearchCV(model, param_grid=param_grid_reduced, cv=5, scoring='neg_mean_squared_error')\n",
    "grid_search_reduced.fit(X_train, y_train)\n",
    "\n",
    "best_params_grid_reduced = grid_search_reduced.best_params_\n"
   ]
  },
  {
   "cell_type": "code",
   "execution_count": 117,
   "metadata": {},
   "outputs": [],
   "source": [
    "\n",
    "# Perform cross-validation to evaluate the model\n",
    "cv_scores = cross_val_score(model, X, y, cv=5, scoring='neg_mean_squared_error')\n",
    "\n",
    "# Convert the scores to positive values and calculate RMSE\n",
    "cv_rmse_scores = np.sqrt(-cv_scores)\n",
    "\n",
    "# Display the cross-validation scores\n",
    "print(\"Cross-Validation RMSE Scores: \", cv_rmse_scores)\n",
    "print(\"Mean RMSE: \", cv_rmse_scores.mean())\n"
   ]
  },
  {
   "cell_type": "markdown",
   "metadata": {},
   "source": [
    "Still not goood, let's refine the model!"
   ]
  },
  {
   "cell_type": "code",
   "execution_count": null,
   "metadata": {},
   "outputs": [],
   "source": [
    "#scaling the data\n",
    "\n",
    "scaler = MinMaxScaler()\n",
    "X_train_scaled = scaler.fit_transform(X_train)\n",
    "X_test_scaled = scaler.transform(X_test)\n"
   ]
  },
  {
   "cell_type": "code",
   "execution_count": null,
   "metadata": {},
   "outputs": [
    {
     "data": {
      "text/html": [
       "<style>#sk-container-id-5 {color: black;}#sk-container-id-5 pre{padding: 0;}#sk-container-id-5 div.sk-toggleable {background-color: white;}#sk-container-id-5 label.sk-toggleable__label {cursor: pointer;display: block;width: 100%;margin-bottom: 0;padding: 0.3em;box-sizing: border-box;text-align: center;}#sk-container-id-5 label.sk-toggleable__label-arrow:before {content: \"▸\";float: left;margin-right: 0.25em;color: #696969;}#sk-container-id-5 label.sk-toggleable__label-arrow:hover:before {color: black;}#sk-container-id-5 div.sk-estimator:hover label.sk-toggleable__label-arrow:before {color: black;}#sk-container-id-5 div.sk-toggleable__content {max-height: 0;max-width: 0;overflow: hidden;text-align: left;background-color: #f0f8ff;}#sk-container-id-5 div.sk-toggleable__content pre {margin: 0.2em;color: black;border-radius: 0.25em;background-color: #f0f8ff;}#sk-container-id-5 input.sk-toggleable__control:checked~div.sk-toggleable__content {max-height: 200px;max-width: 100%;overflow: auto;}#sk-container-id-5 input.sk-toggleable__control:checked~label.sk-toggleable__label-arrow:before {content: \"▾\";}#sk-container-id-5 div.sk-estimator input.sk-toggleable__control:checked~label.sk-toggleable__label {background-color: #d4ebff;}#sk-container-id-5 div.sk-label input.sk-toggleable__control:checked~label.sk-toggleable__label {background-color: #d4ebff;}#sk-container-id-5 input.sk-hidden--visually {border: 0;clip: rect(1px 1px 1px 1px);clip: rect(1px, 1px, 1px, 1px);height: 1px;margin: -1px;overflow: hidden;padding: 0;position: absolute;width: 1px;}#sk-container-id-5 div.sk-estimator {font-family: monospace;background-color: #f0f8ff;border: 1px dotted black;border-radius: 0.25em;box-sizing: border-box;margin-bottom: 0.5em;}#sk-container-id-5 div.sk-estimator:hover {background-color: #d4ebff;}#sk-container-id-5 div.sk-parallel-item::after {content: \"\";width: 100%;border-bottom: 1px solid gray;flex-grow: 1;}#sk-container-id-5 div.sk-label:hover label.sk-toggleable__label {background-color: #d4ebff;}#sk-container-id-5 div.sk-serial::before {content: \"\";position: absolute;border-left: 1px solid gray;box-sizing: border-box;top: 0;bottom: 0;left: 50%;z-index: 0;}#sk-container-id-5 div.sk-serial {display: flex;flex-direction: column;align-items: center;background-color: white;padding-right: 0.2em;padding-left: 0.2em;position: relative;}#sk-container-id-5 div.sk-item {position: relative;z-index: 1;}#sk-container-id-5 div.sk-parallel {display: flex;align-items: stretch;justify-content: center;background-color: white;position: relative;}#sk-container-id-5 div.sk-item::before, #sk-container-id-5 div.sk-parallel-item::before {content: \"\";position: absolute;border-left: 1px solid gray;box-sizing: border-box;top: 0;bottom: 0;left: 50%;z-index: -1;}#sk-container-id-5 div.sk-parallel-item {display: flex;flex-direction: column;z-index: 1;position: relative;background-color: white;}#sk-container-id-5 div.sk-parallel-item:first-child::after {align-self: flex-end;width: 50%;}#sk-container-id-5 div.sk-parallel-item:last-child::after {align-self: flex-start;width: 50%;}#sk-container-id-5 div.sk-parallel-item:only-child::after {width: 0;}#sk-container-id-5 div.sk-dashed-wrapped {border: 1px dashed gray;margin: 0 0.4em 0.5em 0.4em;box-sizing: border-box;padding-bottom: 0.4em;background-color: white;}#sk-container-id-5 div.sk-label label {font-family: monospace;font-weight: bold;display: inline-block;line-height: 1.2em;}#sk-container-id-5 div.sk-label-container {text-align: center;}#sk-container-id-5 div.sk-container {/* jupyter's `normalize.less` sets `[hidden] { display: none; }` but bootstrap.min.css set `[hidden] { display: none !important; }` so we also need the `!important` here to be able to override the default hidden behavior on the sphinx rendered scikit-learn.org. See: https://github.com/scikit-learn/scikit-learn/issues/21755 */display: inline-block !important;position: relative;}#sk-container-id-5 div.sk-text-repr-fallback {display: none;}</style><div id=\"sk-container-id-5\" class=\"sk-top-container\"><div class=\"sk-text-repr-fallback\"><pre>TransformedTargetRegressor(regressor=Ridge(random_state=42))</pre><b>In a Jupyter environment, please rerun this cell to show the HTML representation or trust the notebook. <br />On GitHub, the HTML representation is unable to render, please try loading this page with nbviewer.org.</b></div><div class=\"sk-container\" hidden><div class=\"sk-item sk-dashed-wrapped\"><div class=\"sk-label-container\"><div class=\"sk-label sk-toggleable\"><input class=\"sk-toggleable__control sk-hidden--visually\" id=\"sk-estimator-id-7\" type=\"checkbox\" ><label for=\"sk-estimator-id-7\" class=\"sk-toggleable__label sk-toggleable__label-arrow\">TransformedTargetRegressor</label><div class=\"sk-toggleable__content\"><pre>TransformedTargetRegressor(regressor=Ridge(random_state=42))</pre></div></div></div><div class=\"sk-parallel\"><div class=\"sk-parallel-item\"><div class=\"sk-item\"><div class=\"sk-label-container\"><div class=\"sk-label sk-toggleable\"><input class=\"sk-toggleable__control sk-hidden--visually\" id=\"sk-estimator-id-8\" type=\"checkbox\" ><label for=\"sk-estimator-id-8\" class=\"sk-toggleable__label sk-toggleable__label-arrow\">regressor: Ridge</label><div class=\"sk-toggleable__content\"><pre>Ridge(random_state=42)</pre></div></div></div><div class=\"sk-serial\"><div class=\"sk-item\"><div class=\"sk-estimator sk-toggleable\"><input class=\"sk-toggleable__control sk-hidden--visually\" id=\"sk-estimator-id-9\" type=\"checkbox\" ><label for=\"sk-estimator-id-9\" class=\"sk-toggleable__label sk-toggleable__label-arrow\">Ridge</label><div class=\"sk-toggleable__content\"><pre>Ridge(random_state=42)</pre></div></div></div></div></div></div></div></div></div></div>"
      ],
      "text/plain": [
       "TransformedTargetRegressor(regressor=Ridge(random_state=42))"
      ]
     },
     "execution_count": 86,
     "metadata": {},
     "output_type": "execute_result"
    }
   ],
   "source": [
    "# hyperparameter tuning with GridSearchCV again for RandomForestRegressor\n",
    "\n",
    "param_grid = {\n",
    "    'n_estimators': [100, 150, 200],\n",
    "    'max_depth': [5, 10, 15],\n",
    "    'min_samples_split': [2, 5, 10],\n",
    "    'min_samples_leaf': [1, 2, 4],\n",
    "    'max_features': ['sqrt', 'log2', None],  \n",
    "    'bootstrap': [True, False]\n",
    "}\n",
    "\n",
    "model = RandomForestRegressor(random_state=42)\n",
    "grid_search = RandomizedSearchCV(model, param_distributions=param_grid, n_iter=100, cv=5, scoring='neg_mean_squared_error', random_state=42)\n",
    "grid_search.fit(X_train, y_train)\n",
    "\n",
    "best_params = grid_search.best_params_\n",
    "\n",
    "# utilizing TransformedTargetRegressor with Ridge Regression\n",
    "\n",
    "\n",
    "ridge_params = {'alpha': 1.0}\n",
    "ridge_model = Ridge(**ridge_params, random_state=42)\n",
    "ridge_transformed_model = TransformedTargetRegressor(regressor=ridge_model)\n",
    "\n",
    "ridge_transformed_model.fit(X_train, y_train)"
   ]
  },
  {
   "cell_type": "code",
   "execution_count": null,
   "metadata": {},
   "outputs": [
    {
     "name": "stdout",
     "output_type": "stream",
     "text": [
      "Cross-Validation RMSE Scores:  [1.59323882e+09 6.31109158e+09 2.03235245e+09 1.68027455e+09\n",
      " 2.25329463e+09]\n",
      "Mean RMSE:  2774050402.4212036\n"
     ]
    }
   ],
   "source": [
    "# cross-validation again to evaluate the model\n",
    "\n",
    "cv_scores = cross_val_score(ridge_transformed_model, X, y, cv=5, scoring='neg_mean_squared_error')\n",
    "\n",
    "# converting the scores to positive values and calculating the RMSE\n",
    "cv_rmse_scores = np.sqrt(-cv_scores)\n",
    "\n",
    "print(\"RMSE scores: \", cv_rmse_scores)\n",
    "print(\"mean RMSE: \", cv_rmse_scores.mean())"
   ]
  },
  {
   "cell_type": "code",
   "execution_count": null,
   "metadata": {},
   "outputs": [
    {
     "data": {
      "image/png": "[encoded data removed]",
      "text/plain": [
       "<Figure size 640x480 with 1 Axes>"
      ]
     },
     "metadata": {},
     "output_type": "display_data"
    }
   ],
   "source": [
    "# residuals\n",
    "residuals = y_test - ridge_transformed_model.predict(X_test)\n",
    "plt.scatter(ridge_transformed_model.predict(X_test), residuals)\n",
    "plt.axhline(y=0, color='r', linestyle='-')\n",
    "plt.title('Residual Plot')\n",
    "plt.show()"
   ]
  },
  {
   "cell_type": "code",
   "execution_count": null,
   "metadata": {},
   "outputs": [
    {
     "name": "stdout",
     "output_type": "stream",
     "text": [
      "Linear Regression Model Performance:\n",
      "Training R-squared: 0.5518278955781193\n",
      "Training RMSE: 2116915031.8153949\n",
      "Testing R-squared: -7.531071891849891e+30\n",
      "Testing RMSE: 2.1154985436967875e+20\n"
     ]
    }
   ],
   "source": [
    "# creating and fitting a linear regression model\n",
    "lr_model = LinearRegression()\n",
    "lr_model.fit(X_train, y_train)\n",
    "\n",
    "\n",
    "# making predictions\n",
    "y_pred_train_lr = lr_model.predict(X_train)\n",
    "y_pred_test_lr = lr_model.predict(X_test)\n",
    "\n",
    "\n",
    "# calculating r-squared and rmse\n",
    "r2_train_lr = r2_score(y_train, y_pred_train_lr)\n",
    "rmse_train_lr = mean_squared_error(y_train, y_pred_train_lr, squared=False)\n",
    "r2_test_lr = r2_score(y_test, y_pred_test_lr)\n",
    "rmse_test_lr = mean_squared_error(y_test, y_pred_test_lr, squared=False)\n",
    "\n",
    "print(\"train R-squared:\", r2_train_lr)\n",
    "print(\"train RMSE:\", rmse_train_lr)\n",
    "print(\"test R-squared:\", r2_test_lr)\n",
    "print(\"test RMSE:\", rmse_test_lr)\n",
    "\n"
   ]
  },
  {
   "cell_type": "markdown",
   "metadata": {},
   "source": [
    "Results\n",
    "\n",
    "Linear Regression Model:\n",
    "- Train R-squared: 0.5518278955781193\n",
    "- Train RMSE: 2116915031.8153949\n",
    "- Test R-squared: -7.531071891849891e+30\n",
    "- Test RMSE: 2.1154985436967875e+20\n",
    "\n",
    "\n",
    "Feature Selection Activities \n",
    "- The SelectFromModel method was used \n",
    "\n",
    "\n",
    "Hyperparameter Tuning / Grid Search Improvements\n",
    "- For the Random Forest Regressor, extensive grid search was performed to find the best parameters\n",
    "- Additionally, a reduced grid search was conducted"
   ]
  },
  {
   "cell_type": "code",
   "execution_count": null,
   "metadata": {},
   "outputs": [],
   "source": [
    "# hyperparameter tuning and grid search improvements\n",
    "print(\"Hyperparameter Changes / Grid Search Improvements:\")\n",
    "print(\"Best parameters for Random Forest Regressor:\", best_params)\n",
    "print(\"Best parameters for Random Forest Regressor (reduced grid search):\", best_params_grid_reduced)"
   ]
  },
  {
   "cell_type": "code",
   "execution_count": null,
   "metadata": {},
   "outputs": [
    {
     "data": {
      "image/png": "[encoded data removed]",
      "text/plain": [
       "<Figure size 640x480 with 1 Axes>"
      ]
     },
     "metadata": {},
     "output_type": "display_data"
    }
   ],
   "source": [
    "# residuals with linear regression \n",
    "residuals_lr = y_test - lr_model.predict(X_test)\n",
    "plt.scatter(lr_model.predict(X_test), residuals_lr)\n",
    "plt.axhline(y=0, color='r', linestyle='-')\n",
    "plt.title('Residual Plot - Linear Regression Model')\n",
    "plt.show()\n"
   ]
  }
 ],
 "metadata": {
  "kernelspec": {
   "display_name": "Python 3",
   "language": "python",
   "name": "python3"
  },
  "language_info": {
   "codemirror_mode": {
    "name": "ipython",
    "version": 3
   },
   "file_extension": ".py",
   "mimetype": "text/x-python",
   "name": "python",
   "nbconvert_exporter": "python",
   "pygments_lexer": "ipython3",
   "version": "3.11.4"
  }
 },
 "nbformat": 4,
 "nbformat_minor": 2
}
